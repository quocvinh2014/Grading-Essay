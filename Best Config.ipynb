{
 "cells": [
  {
   "cell_type": "code",
   "execution_count": 1,
   "metadata": {},
   "outputs": [],
   "source": [
    "import pandas as pd\n",
    "from scipy import spatial\n",
    "import numpy as np\n",
    "import re\n",
    "import nltk\n",
    "from sklearn.pipeline import make_pipeline\n",
    "import sklearn.preprocessing as preprocess\n",
    "from sklearn.decomposition import TruncatedSVD\n",
    "from sklearn.feature_extraction.text import TfidfVectorizer\n",
    "from sklearn.neighbors import KNeighborsClassifier, NearestNeighbors\n",
    "from sklearn.model_selection import train_test_split\n",
    "from sklearn.model_selection import GridSearchCV"
   ]
  },
  {
   "cell_type": "code",
   "execution_count": 2,
   "metadata": {},
   "outputs": [],
   "source": [
    "train = pd.read_excel('./Data/training_set_rel3_set1.xlsx')\n",
    "test = pd.read_excel('./Data/valid_set_set1.xlsx')\n",
    "train.set_index('ID')\n",
    "test.set_index('essay_id')\n",
    "y_train = train['Score']\n",
    "y_test = test['Score']\n",
    "X = pd.concat([train,test])"
   ]
  },
  {
   "cell_type": "markdown",
   "metadata": {},
   "source": [
    "## Removing stopwords and stemming"
   ]
  },
  {
   "cell_type": "code",
   "execution_count": 3,
   "metadata": {},
   "outputs": [],
   "source": [
    "def StemmingWordList(arrayList):\n",
    "    ps = nltk.PorterStemmer()\n",
    "    newList = [ps.stem(word) for word in arrayList]\n",
    "    return ''.join(newList)\n",
    "\n",
    "content = X['Essay Content']\n",
    "content = content.apply(lambda x: re.sub('@.+?\\s', '', x))\n",
    "content = content.apply(lambda x: re.sub('\\W|_|[0-9]', ' ', x))\n",
    "content = content.apply(lambda x: StemmingWordList(x))"
   ]
  },
  {
   "cell_type": "code",
   "execution_count": 4,
   "metadata": {},
   "outputs": [],
   "source": [
    "tfidf = TfidfVectorizer(max_df=0.9, stop_words=nltk.corpus.stopwords.words('english'))\n",
    "features = tfidf.fit_transform(content)\n",
    "scores = X['Score']"
   ]
  },
  {
   "cell_type": "code",
   "execution_count": 5,
   "metadata": {},
   "outputs": [
    {
     "name": "stderr",
     "output_type": "stream",
     "text": [
      "C:\\Users\\buiqu\\anaconda3\\lib\\site-packages\\sklearn\\model_selection\\_split.py:666: UserWarning: The least populated class in y has only 1 members, which is less than n_splits=5.\n",
      "  warnings.warn((\"The least populated class in y has only %d\"\n"
     ]
    },
    {
     "data": {
      "text/plain": [
       "GridSearchCV(estimator=Pipeline(steps=[('truncatedsvd',\n",
       "                                        TruncatedSVD(n_iter=50)),\n",
       "                                       ('kneighborsclassifier',\n",
       "                                        KNeighborsClassifier())]),\n",
       "             n_jobs=10,\n",
       "             param_grid={'kneighborsclassifier__n_neighbors': range(3, 10),\n",
       "                         'kneighborsclassifier__weights': ['distance'],\n",
       "                         'truncatedsvd__n_components': range(80, 400, 10)})"
      ]
     },
     "execution_count": 5,
     "metadata": {},
     "output_type": "execute_result"
    }
   ],
   "source": [
    "knn = KNeighborsClassifier()\n",
    "svd = TruncatedSVD(n_iter=50)\n",
    "pipeline = make_pipeline(svd, knn)\n",
    "params = {\n",
    "    'truncatedsvd__n_components': range(80, 400, 10),\n",
    "    'kneighborsclassifier__n_neighbors': range(3,10,1),\n",
    "    'kneighborsclassifier__weights': ['distance']\n",
    "}\n",
    "\n",
    "optimized_knn = GridSearchCV(pipeline, params, n_jobs=10)\n",
    "optimized_knn.fit(features, scores)"
   ]
  },
  {
   "cell_type": "code",
   "execution_count": 6,
   "metadata": {},
   "outputs": [
    {
     "data": {
      "text/plain": [
       "Pipeline(steps=[('truncatedsvd', TruncatedSVD(n_components=80, n_iter=50)),\n",
       "                ('kneighborsclassifier',\n",
       "                 KNeighborsClassifier(n_neighbors=8, weights='distance'))])"
      ]
     },
     "execution_count": 6,
     "metadata": {},
     "output_type": "execute_result"
    }
   ],
   "source": [
    "optimized_knn.best_estimator_"
   ]
  },
  {
   "cell_type": "markdown",
   "metadata": {},
   "source": [
    "#### knn = KNeighborsClassifier()\n",
    "svd = TruncatedSVD(n_iter=50)\n",
    "pipeline = make_pipeline(svd, knn)\n",
    "params = {\n",
    "    'truncatedsvd__n_components': range(50, 400, 5),\n",
    "    'kneighborsclassifier__n_neighbors': range(3,10,1),\n",
    "    'kneighborsclassifier__weights': ['distance']\n",
    "}\n",
    "\n",
    "optimized_knn = GridSearchCV(pipeline, params, n_jobs=10)\n",
    "optimized_knn.fit(X, y)"
   ]
  },
  {
   "cell_type": "code",
   "execution_count": 7,
   "metadata": {},
   "outputs": [
    {
     "data": {
      "text/plain": [
       "0.32208927381745506"
      ]
     },
     "execution_count": 7,
     "metadata": {},
     "output_type": "execute_result"
    }
   ],
   "source": [
    "optimized_knn.best_score_"
   ]
  },
  {
   "cell_type": "code",
   "execution_count": 15,
   "metadata": {},
   "outputs": [
    {
     "data": {
      "text/plain": [
       "{'kneighborsclassifier__n_neighbors': 8,\n",
       " 'kneighborsclassifier__weights': 'distance',\n",
       " 'truncatedsvd__n_components': 80}"
      ]
     },
     "execution_count": 15,
     "metadata": {},
     "output_type": "execute_result"
    }
   ],
   "source": [
    "optimized_knn.best_params_"
   ]
  },
  {
   "cell_type": "code",
   "execution_count": 9,
   "metadata": {},
   "outputs": [
    {
     "data": {
      "text/plain": [
       "dict_keys(['mean_fit_time', 'std_fit_time', 'mean_score_time', 'std_score_time', 'param_kneighborsclassifier__n_neighbors', 'param_kneighborsclassifier__weights', 'param_truncatedsvd__n_components', 'params', 'split0_test_score', 'split1_test_score', 'split2_test_score', 'split3_test_score', 'split4_test_score', 'mean_test_score', 'std_test_score', 'rank_test_score'])"
      ]
     },
     "execution_count": 9,
     "metadata": {},
     "output_type": "execute_result"
    }
   ],
   "source": [
    "optimized_knn.cv_results_.keys()"
   ]
  },
  {
   "cell_type": "code",
   "execution_count": null,
   "metadata": {},
   "outputs": [],
   "source": []
  },
  {
   "cell_type": "code",
   "execution_count": 10,
   "metadata": {},
   "outputs": [],
   "source": [
    "result = zip(optimized_knn.cv_results_.get('mean_test_score'), optimized_knn.cv_results_.get('params'))"
   ]
  },
  {
   "cell_type": "code",
   "execution_count": 11,
   "metadata": {},
   "outputs": [],
   "source": [
    "listResult = list(result)"
   ]
  },
  {
   "cell_type": "code",
   "execution_count": 12,
   "metadata": {},
   "outputs": [],
   "source": [
    "listResult.sort(key = lambda t: t[0], reverse=True)"
   ]
  },
  {
   "cell_type": "code",
   "execution_count": 13,
   "metadata": {},
   "outputs": [
    {
     "data": {
      "text/plain": [
       "[(0.32208927381745506,\n",
       "  {'kneighborsclassifier__n_neighbors': 8,\n",
       "   'kneighborsclassifier__weights': 'distance',\n",
       "   'truncatedsvd__n_components': 80}),\n",
       " (0.3203997335109927,\n",
       "  {'kneighborsclassifier__n_neighbors': 9,\n",
       "   'kneighborsclassifier__weights': 'distance',\n",
       "   'truncatedsvd__n_components': 90}),\n",
       " (0.31871641128136796,\n",
       "  {'kneighborsclassifier__n_neighbors': 9,\n",
       "   'kneighborsclassifier__weights': 'distance',\n",
       "   'truncatedsvd__n_components': 80}),\n",
       " (0.31028114590273154,\n",
       "  {'kneighborsclassifier__n_neighbors': 8,\n",
       "   'kneighborsclassifier__weights': 'distance',\n",
       "   'truncatedsvd__n_components': 90}),\n",
       " (0.3098503220075505,\n",
       "  {'kneighborsclassifier__n_neighbors': 9,\n",
       "   'kneighborsclassifier__weights': 'distance',\n",
       "   'truncatedsvd__n_components': 100})]"
      ]
     },
     "execution_count": 13,
     "metadata": {},
     "output_type": "execute_result"
    }
   ],
   "source": [
    "listResult[:5]"
   ]
  },
  {
   "cell_type": "code",
   "execution_count": 14,
   "metadata": {},
   "outputs": [
    {
     "ename": "KeyError",
     "evalue": "'kneighborsclassifier__metric'",
     "output_type": "error",
     "traceback": [
      "\u001b[1;31m---------------------------------------------------------------------------\u001b[0m",
      "\u001b[1;31mKeyError\u001b[0m                                  Traceback (most recent call last)",
      "\u001b[1;32m<ipython-input-14-efb1ecafaaf7>\u001b[0m in \u001b[0;36m<module>\u001b[1;34m\u001b[0m\n\u001b[0;32m      2\u001b[0m \u001b[1;32mfor\u001b[0m \u001b[0me\u001b[0m \u001b[1;32min\u001b[0m \u001b[0mlistResult\u001b[0m\u001b[1;33m:\u001b[0m\u001b[1;33m\u001b[0m\u001b[1;33m\u001b[0m\u001b[0m\n\u001b[0;32m      3\u001b[0m     \u001b[0mscore\u001b[0m\u001b[1;33m,\u001b[0m \u001b[0mparams\u001b[0m \u001b[1;33m=\u001b[0m \u001b[0me\u001b[0m\u001b[1;33m\u001b[0m\u001b[1;33m\u001b[0m\u001b[0m\n\u001b[1;32m----> 4\u001b[1;33m     \u001b[0mmetric\u001b[0m \u001b[1;33m=\u001b[0m \u001b[0mparams\u001b[0m\u001b[1;33m[\u001b[0m\u001b[1;34m'kneighborsclassifier__metric'\u001b[0m\u001b[1;33m]\u001b[0m\u001b[1;33m\u001b[0m\u001b[1;33m\u001b[0m\u001b[0m\n\u001b[0m\u001b[0;32m      5\u001b[0m     \u001b[0mneighbors\u001b[0m \u001b[1;33m=\u001b[0m \u001b[0mparams\u001b[0m\u001b[1;33m[\u001b[0m\u001b[1;34m'kneighborsclassifier__n_neighbors'\u001b[0m\u001b[1;33m]\u001b[0m\u001b[1;33m\u001b[0m\u001b[1;33m\u001b[0m\u001b[0m\n\u001b[0;32m      6\u001b[0m     \u001b[0mcomponents\u001b[0m \u001b[1;33m=\u001b[0m \u001b[0mparams\u001b[0m\u001b[1;33m[\u001b[0m\u001b[1;34m'truncatedsvd__n_components'\u001b[0m\u001b[1;33m]\u001b[0m\u001b[1;33m\u001b[0m\u001b[1;33m\u001b[0m\u001b[0m\n",
      "\u001b[1;31mKeyError\u001b[0m: 'kneighborsclassifier__metric'"
     ]
    }
   ],
   "source": [
    "dataResult = []\n",
    "for e in listResult:\n",
    "    score, params = e\n",
    "    metric = params['kneighborsclassifier__metric']\n",
    "    neighbors = params['kneighborsclassifier__n_neighbors']\n",
    "    components = params['truncatedsvd__n_components']\n",
    "    weight = params['kneighborsclassifier__weights']\n",
    "    dataResult.append((score, metric, neighbors, components, weight))"
   ]
  },
  {
   "cell_type": "code",
   "execution_count": null,
   "metadata": {},
   "outputs": [],
   "source": [
    "dataFrame = pd.DataFrame(data=dataResult, columns=['score', 'metric', 'neighbors', 'components', 'weight'])"
   ]
  },
  {
   "cell_type": "code",
   "execution_count": null,
   "metadata": {},
   "outputs": [],
   "source": [
    "dataFrame.to_csv('score_metric_n_c_w_1.csv')"
   ]
  },
  {
   "cell_type": "markdown",
   "metadata": {},
   "source": [
    "# After found the best estimator, try implement the \"new median\""
   ]
  },
  {
   "cell_type": "code",
   "execution_count": null,
   "metadata": {},
   "outputs": [],
   "source": [
    "train = pd.read_excel('./Data/training_set_rel3_set1.xlsx')\n",
    "test = pd.read_excel('./Data/valid_set_set1.xlsx')\n",
    "\n",
    "y_train = train['Score']\n",
    "y_test = test['Score']\n"
   ]
  },
  {
   "cell_type": "markdown",
   "metadata": {},
   "source": [
    "### Build additional features: number of sentences and number words"
   ]
  },
  {
   "cell_type": "code",
   "execution_count": null,
   "metadata": {},
   "outputs": [],
   "source": [
    "train.set_index('ID')\n",
    "test.set_index('ID')\n",
    "x_numberOfSentences = train['Essay Content'].apply(lambda x: len(x.split('.')))\n",
    "x_numberOfWords = train['Essay Content'].apply(lambda x: len(x.split()))\n",
    "\n",
    "y_numberOfSentences = test['essay'].apply(lambda x: len(x.split('.')))\n",
    "y_numberOfWords = test['essay'].apply(lambda x: len(x.split()))"
   ]
  },
  {
   "cell_type": "markdown",
   "metadata": {},
   "source": [
    "Processing Data"
   ]
  },
  {
   "cell_type": "code",
   "execution_count": null,
   "metadata": {},
   "outputs": [],
   "source": [
    "content = train['Essay Content']\n",
    "content = content.apply(lambda x: re.sub('@.+?\\s', '', x))\n",
    "content = content.apply(lambda x: re.sub('\\W|_|[0-9]', ' ', x))\n",
    "content = content.apply(lambda x: StemmingWordList(x))\n",
    "x_train = tfidf.fit_transform(content)\n",
    "x_train['#Sentences'] = x_numberOfSentences\n",
    "x_train['#Words'] = x_numberOfWords\n",
    "\n",
    "content = test['essay']\n",
    "content = content.apply(lambda x: re.sub('@.+?\\s', '', x))\n",
    "content = content.apply(lambda x: re.sub('\\W|_|[0-9]', ' ', x))\n",
    "content = content.apply(lambda x: StemmingWordList(x))\n",
    "x_test = tfidf.fit_transform(content)\n",
    "x_test['#Sentences'] = y_numberOfSentences\n",
    "x_test['#Words'] = y_numberOfWords"
   ]
  },
  {
   "cell_type": "markdown",
   "metadata": {},
   "source": [
    "## Using Naive Bayes GaussianNB"
   ]
  },
  {
   "cell_type": "code",
   "execution_count": null,
   "metadata": {},
   "outputs": [],
   "source": []
  }
 ],
 "metadata": {
  "kernelspec": {
   "display_name": "Python 3",
   "language": "python",
   "name": "python3"
  },
  "language_info": {
   "codemirror_mode": {
    "name": "ipython",
    "version": 3
   },
   "file_extension": ".py",
   "mimetype": "text/x-python",
   "name": "python",
   "nbconvert_exporter": "python",
   "pygments_lexer": "ipython3",
   "version": "3.8.8"
  }
 },
 "nbformat": 4,
 "nbformat_minor": 2
}
