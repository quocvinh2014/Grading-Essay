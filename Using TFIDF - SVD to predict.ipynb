{
 "cells": [
  {
   "cell_type": "markdown",
   "metadata": {},
   "source": [
    "# Auto Grading By Using KNearestNeighborClassifier"
   ]
  },
  {
   "cell_type": "markdown",
   "metadata": {},
   "source": [
    "The data that is used in this project is obtained from https://www.kaggle.com/c/asap-aes.\n",
    "However, it is changed easier implemenentation."
   ]
  },
  {
   "cell_type": "markdown",
   "metadata": {},
   "source": [
    "### Import packages"
   ]
  },
  {
   "cell_type": "code",
   "execution_count": 15,
   "metadata": {},
   "outputs": [],
   "source": [
    "import pandas as pd\n",
    "import numpy as np\n",
    "import re\n",
    "import nltk\n",
    "from sklearn.decomposition import TruncatedSVD\n",
    "from sklearn.feature_extraction.text import TfidfVectorizer\n",
    "from sklearn.neighbors import KNeighborsClassifier, NearestNeighbors\n",
    "from sklearn.model_selection import train_test_split\n",
    "from sklearn.pipeline import make_pipeline\n",
    "from sklearn.metrics import cohen_kappa_score\n",
    "\n",
    "from scipy import sparse"
   ]
  },
  {
   "cell_type": "code",
   "execution_count": 16,
   "metadata": {},
   "outputs": [],
   "source": [
    "def StemmingWordList(arrayList):\n",
    "    ps = nltk.PorterStemmer()\n",
    "    newList = [ps.stem(word) for word in arrayList]\n",
    "    return ''.join(newList)\n",
    "\n",
    "svd = TruncatedSVD(n_iter=10, n_components=100)\n",
    "tfidf = TfidfVectorizer(min_df = 0.01, max_df=0.85, stop_words='english')"
   ]
  },
  {
   "cell_type": "markdown",
   "metadata": {},
   "source": [
    "### Import data"
   ]
  },
  {
   "cell_type": "code",
   "execution_count": 17,
   "metadata": {},
   "outputs": [],
   "source": [
    "train = pd.read_excel('./Data/training_set_rel3_set1.xlsx')\n",
    "test = pd.read_excel('./Data/valid_set_set1.xlsx')\n",
    "train.set_index('ID')\n",
    "test.set_index('essay_id')\n",
    "y_train = train['Score']\n",
    "y_test = test['Score']\n",
    "X = pd.concat([train,test])\n"
   ]
  },
  {
   "cell_type": "markdown",
   "metadata": {},
   "source": [
    "## Creating 2 addtional features\n",
    "### \"Number of words\" and \"Number of sentences\" improve the accuracy"
   ]
  },
  {
   "cell_type": "code",
   "execution_count": 19,
   "metadata": {},
   "outputs": [],
   "source": [
    "train_numberOfSentences = X['Essay Content'].apply(lambda x: len(x.split('.')))\n",
    "train_numberOfWords = X['Essay Content'].apply(lambda x: len(x.split()))"
   ]
  },
  {
   "cell_type": "code",
   "execution_count": 20,
   "metadata": {},
   "outputs": [],
   "source": [
    "content = X['Essay Content']\n",
    "content = content.apply(lambda x: re.sub('^[a-zA-Z]', ' ', x))\n",
    "content = content.apply(lambda x: StemmingWordList(x))"
   ]
  },
  {
   "cell_type": "code",
   "execution_count": 21,
   "metadata": {},
   "outputs": [],
   "source": [
    "x_transform = tfidf.fit_transform(content)"
   ]
  },
  {
   "cell_type": "code",
   "execution_count": 22,
   "metadata": {},
   "outputs": [],
   "source": [
    "x_transform = sparse.hstack((x_transform, train_numberOfSentences[:,None]))\n",
    "x_transform = sparse.hstack((x_transform, train_numberOfWords[:,None]))"
   ]
  },
  {
   "cell_type": "code",
   "execution_count": 23,
   "metadata": {},
   "outputs": [],
   "source": [
    "x_transform = svd.fit_transform(x_transform)"
   ]
  },
  {
   "cell_type": "code",
   "execution_count": 24,
   "metadata": {},
   "outputs": [],
   "source": [
    "x_train = x_transform[:len(train)]\n",
    "x_test = x_transform[len(train):]"
   ]
  },
  {
   "cell_type": "code",
   "execution_count": 25,
   "metadata": {},
   "outputs": [
    {
     "data": {
      "text/plain": [
       "NearestNeighbors(n_neighbors=6)"
      ]
     },
     "execution_count": 25,
     "metadata": {},
     "output_type": "execute_result"
    }
   ],
   "source": [
    "neighbors = 6\n",
    "nearestNeighbors = NearestNeighbors(n_neighbors=neighbors)\n",
    "nearestNeighbors.fit(x_train)"
   ]
  },
  {
   "cell_type": "code",
   "execution_count": 26,
   "metadata": {},
   "outputs": [],
   "source": [
    "test_dist, test_ind = nearestNeighbors.kneighbors(x_test)"
   ]
  },
  {
   "cell_type": "markdown",
   "metadata": {},
   "source": [
    "# Using custom median to predict score"
   ]
  },
  {
   "cell_type": "code",
   "execution_count": 27,
   "metadata": {},
   "outputs": [],
   "source": [
    "i_prediction = list()\n",
    "for i_dist in range(0, len(test_dist)):\n",
    "    t = 0\n",
    "    idx = 0\n",
    "    avg = sum(test_dist[i_dist])/2\n",
    "    for dist in test_dist[i_dist]:\n",
    "        t += dist\n",
    "        if (t < avg):\n",
    "            idx += 1\n",
    "        else:\n",
    "            i_prediction.append(test_ind[i_dist][idx])\n",
    "            break\n"
   ]
  },
  {
   "cell_type": "code",
   "execution_count": 28,
   "metadata": {},
   "outputs": [],
   "source": [
    "prediction_list = list()\n",
    "for i in i_prediction:\n",
    "    prediction_list.append(y_train[i])\n",
    "\n"
   ]
  },
  {
   "cell_type": "code",
   "execution_count": 29,
   "metadata": {},
   "outputs": [
    {
     "data": {
      "text/plain": [
       "0.7122312208455323"
      ]
     },
     "execution_count": 29,
     "metadata": {},
     "output_type": "execute_result"
    }
   ],
   "source": [
    "cohen_kappa_score(y_test, prediction_list,weights='quadratic')  "
   ]
  },
  {
   "cell_type": "markdown",
   "metadata": {},
   "source": [
    "# Using true median"
   ]
  },
  {
   "cell_type": "code",
   "execution_count": 30,
   "metadata": {},
   "outputs": [],
   "source": [
    "prediction_list = list()\n",
    "for val in test_ind:\n",
    "    prediction_list.append(y_train[val[round(neighbors/2)]])\n"
   ]
  },
  {
   "cell_type": "code",
   "execution_count": 31,
   "metadata": {},
   "outputs": [
    {
     "data": {
      "text/plain": [
       "0.7147278223741393"
      ]
     },
     "execution_count": 31,
     "metadata": {},
     "output_type": "execute_result"
    }
   ],
   "source": [
    "cohen_kappa_score(y_test, prediction_list,weights='quadratic') "
   ]
  },
  {
   "cell_type": "markdown",
   "metadata": {},
   "source": [
    "# Using closest item"
   ]
  },
  {
   "cell_type": "code",
   "execution_count": 32,
   "metadata": {},
   "outputs": [],
   "source": [
    "prediction_list = list()\n",
    "for val in test_ind:\n",
    "    prediction_list.append(y_train[val[0]])"
   ]
  },
  {
   "cell_type": "code",
   "execution_count": 33,
   "metadata": {},
   "outputs": [
    {
     "data": {
      "text/plain": [
       "0.7321063545431559"
      ]
     },
     "execution_count": 33,
     "metadata": {},
     "output_type": "execute_result"
    }
   ],
   "source": [
    "cohen_kappa_score(y_test, prediction_list,weights='quadratic') "
   ]
  },
  {
   "cell_type": "markdown",
   "metadata": {},
   "source": [
    "# Using mean of score"
   ]
  },
  {
   "cell_type": "code",
   "execution_count": 34,
   "metadata": {},
   "outputs": [],
   "source": [
    "prediction_list = list()\n",
    "for val in test_ind:\n",
    "    total = 0\n",
    "    for i in val:\n",
    "        total += y_train[i]\n",
    "    avg = round(total / len(val)) \n",
    "    prediction_list.append(avg)"
   ]
  },
  {
   "cell_type": "code",
   "execution_count": 35,
   "metadata": {},
   "outputs": [
    {
     "data": {
      "text/plain": [
       "0.8507457643725832"
      ]
     },
     "execution_count": 35,
     "metadata": {},
     "output_type": "execute_result"
    }
   ],
   "source": [
    "cohen_kappa_score(y_test, prediction_list,weights='quadratic') "
   ]
  },
  {
   "cell_type": "code",
   "execution_count": null,
   "metadata": {},
   "outputs": [],
   "source": []
  }
 ],
 "metadata": {
  "kernelspec": {
   "display_name": "Python 3",
   "language": "python",
   "name": "python3"
  },
  "language_info": {
   "codemirror_mode": {
    "name": "ipython",
    "version": 3
   },
   "file_extension": ".py",
   "mimetype": "text/x-python",
   "name": "python",
   "nbconvert_exporter": "python",
   "pygments_lexer": "ipython3",
   "version": "3.8.8"
  }
 },
 "nbformat": 4,
 "nbformat_minor": 4
}
